{
 "cells": [
  {
   "cell_type": "code",
   "execution_count": 1,
   "id": "04461add",
   "metadata": {},
   "outputs": [],
   "source": [
    "import requests\n",
    "import time\n",
    "import pandas as pd"
   ]
  },
  {
   "cell_type": "code",
   "execution_count": null,
   "id": "36c7acc3",
   "metadata": {},
   "outputs": [],
   "source": []
  },
  {
   "cell_type": "markdown",
   "id": "f2a16ee3",
   "metadata": {},
   "source": [
    "# Get first wallets"
   ]
  },
  {
   "cell_type": "code",
   "execution_count": 2,
   "id": "aeebfb43",
   "metadata": {},
   "outputs": [],
   "source": [
    "def get_first_miner_wallets(start, end):\n",
    "\n",
    "    base_url = \"https://blockchain.info/block-height/\"\n",
    "    miner_wallets = set()\n",
    "    current_block = start  # Start from genesis block (block 0)\n",
    "    \n",
    "    while len(miner_wallets) < end:\n",
    "        try:\n",
    "            # Get block data\n",
    "            response = requests.get(f\"{base_url}{current_block}?format=json\")\n",
    "            response.raise_for_status()\n",
    "            block_data = response.json()\n",
    "            \n",
    "            # Extract coinbase transaction (miner reward)\n",
    "            for block in block_data['blocks']:\n",
    "                tx_index = 0  # First transaction is coinbase\n",
    "                tx_hash = block['tx'][tx_index]['hash']\n",
    "                \n",
    "                # Get transaction details\n",
    "                tx_url = f\"https://blockchain.info/rawtx/{tx_hash}\"\n",
    "                tx_response = requests.get(tx_url)\n",
    "                tx_response.raise_for_status()\n",
    "                tx_data = tx_response.json()\n",
    "                \n",
    "                # Find the output address (miner's wallet)\n",
    "                for out in tx_data['out']:\n",
    "                    if 'addr' in out:\n",
    "                        miner_wallets.add(out['addr'])\n",
    "                        print(f\"Found wallet #{len(miner_wallets)}: {out['addr']} in block {current_block}\")\n",
    "                        if len(miner_wallets) >= end:\n",
    "                            return list(miner_wallets)[:end]\n",
    "                \n",
    "            current_block += 1\n",
    "            \n",
    "            # Respect API rate limits (1 request per 10 seconds)\n",
    "            time.sleep(10)\n",
    "            \n",
    "        except Exception as e:\n",
    "            print(f\"Error processing block {current_block}: {str(e)}\")\n",
    "            time.sleep(60)  # Wait longer if there's an error\n",
    "            continue\n",
    "    \n",
    "    return list(miner_wallets)[:end]"
   ]
  },
  {
   "cell_type": "code",
   "execution_count": null,
   "id": "b8c5759a",
   "metadata": {},
   "outputs": [
    {
     "name": "stdout",
     "output_type": "stream",
     "text": [
      "Starting to collect miner reward wallets...\n",
      "Found wallet #1: 1A1zP1eP5QGefi2DMPTfTL5SLmv7DivfNa in block 0\n",
      "Found wallet #2: 12c6DSiU4Rq3P4ZxziKxzrL5LmMBrzjrJX in block 1\n",
      "Found wallet #3: 1HLoD9E4SDFFPDiYfNYnkBLQ85Y51J3Zb1 in block 2\n"
     ]
    }
   ],
   "source": [
    "start = 0\n",
    "end = 3\n",
    "\n",
    "print(\"Starting to collect miner reward wallets...\")\n",
    "wallets = get_first_miner_wallets(start, end)\n",
    "\n",
    "\n",
    "df = pd.DataFrame(wallets, columns=[\"Wallet Address\"])\n",
    "df.to_csv(\"miner_wallets_\"+str(start+1)+\"_\"+str(end)+\".csv\", index=False)"
   ]
  },
  {
   "cell_type": "code",
   "execution_count": null,
   "id": "d7572d9f",
   "metadata": {},
   "outputs": [],
   "source": []
  },
  {
   "cell_type": "code",
   "execution_count": null,
   "id": "f546eb28",
   "metadata": {},
   "outputs": [],
   "source": []
  },
  {
   "cell_type": "markdown",
   "id": "6f743cf5",
   "metadata": {},
   "source": [
    "# Check for wallets with balance"
   ]
  },
  {
   "cell_type": "code",
   "execution_count": 5,
   "id": "59e09608",
   "metadata": {},
   "outputs": [],
   "source": [
    "from tqdm import tqdm\n",
    "tqdm.pandas()  # Enable progress_apply for pandas\n",
    "\n",
    "def get_btc_balance(wallet_address):\n",
    "    try:\n",
    "        response = requests.get(f'https://blockchain.info/balance?active={wallet_address}')\n",
    "        data = response.json()\n",
    "        return data[wallet_address]['final_balance'] / 100000000  # Convert from satoshi to BTC\n",
    "    except Exception as e:\n",
    "        print(f\"Error checking {wallet_address}: {str(e)}\")\n",
    "        return None"
   ]
  },
  {
   "cell_type": "code",
   "execution_count": 6,
   "id": "2511ad5a",
   "metadata": {},
   "outputs": [
    {
     "data": {
      "text/html": [
       "<div>\n",
       "<style scoped>\n",
       "    .dataframe tbody tr th:only-of-type {\n",
       "        vertical-align: middle;\n",
       "    }\n",
       "\n",
       "    .dataframe tbody tr th {\n",
       "        vertical-align: top;\n",
       "    }\n",
       "\n",
       "    .dataframe thead th {\n",
       "        text-align: right;\n",
       "    }\n",
       "</style>\n",
       "<table border=\"1\" class=\"dataframe\">\n",
       "  <thead>\n",
       "    <tr style=\"text-align: right;\">\n",
       "      <th></th>\n",
       "      <th>Wallet Address</th>\n",
       "    </tr>\n",
       "  </thead>\n",
       "  <tbody>\n",
       "    <tr>\n",
       "      <th>0</th>\n",
       "      <td>1A1zP1eP5QGefi2DMPTfTL5SLmv7DivfNa</td>\n",
       "    </tr>\n",
       "    <tr>\n",
       "      <th>1</th>\n",
       "      <td>12c6DSiU4Rq3P4ZxziKxzrL5LmMBrzjrJX</td>\n",
       "    </tr>\n",
       "    <tr>\n",
       "      <th>2</th>\n",
       "      <td>1HLoD9E4SDFFPDiYfNYnkBLQ85Y51J3Zb1</td>\n",
       "    </tr>\n",
       "  </tbody>\n",
       "</table>\n",
       "</div>"
      ],
      "text/plain": [
       "                       Wallet Address\n",
       "0  1A1zP1eP5QGefi2DMPTfTL5SLmv7DivfNa\n",
       "1  12c6DSiU4Rq3P4ZxziKxzrL5LmMBrzjrJX\n",
       "2  1HLoD9E4SDFFPDiYfNYnkBLQ85Y51J3Zb1"
      ]
     },
     "execution_count": 6,
     "metadata": {},
     "output_type": "execute_result"
    }
   ],
   "source": [
    "start = 0\n",
    "end = 3\n",
    "\n",
    "df = pd.read_csv(\"miner_wallets_\"+str(start+1)+\"_\"+str(end)+\".csv\")\n",
    "\n",
    "df"
   ]
  },
  {
   "cell_type": "code",
   "execution_count": 7,
   "id": "776bfb98",
   "metadata": {},
   "outputs": [
    {
     "name": "stderr",
     "output_type": "stream",
     "text": [
      "100%|██████████| 3/3 [00:01<00:00,  2.65it/s]\n"
     ]
    }
   ],
   "source": [
    "# Assuming your DataFrame is called df with a 'wallet_address' column\n",
    "df['balance_btc'] = df['Wallet Address'].progress_apply(get_btc_balance)"
   ]
  },
  {
   "cell_type": "code",
   "execution_count": 8,
   "id": "30ddecc2",
   "metadata": {},
   "outputs": [
    {
     "data": {
      "text/html": [
       "<div>\n",
       "<style scoped>\n",
       "    .dataframe tbody tr th:only-of-type {\n",
       "        vertical-align: middle;\n",
       "    }\n",
       "\n",
       "    .dataframe tbody tr th {\n",
       "        vertical-align: top;\n",
       "    }\n",
       "\n",
       "    .dataframe thead th {\n",
       "        text-align: right;\n",
       "    }\n",
       "</style>\n",
       "<table border=\"1\" class=\"dataframe\">\n",
       "  <thead>\n",
       "    <tr style=\"text-align: right;\">\n",
       "      <th></th>\n",
       "      <th>Wallet Address</th>\n",
       "      <th>balance_btc</th>\n",
       "    </tr>\n",
       "  </thead>\n",
       "  <tbody>\n",
       "    <tr>\n",
       "      <th>0</th>\n",
       "      <td>1A1zP1eP5QGefi2DMPTfTL5SLmv7DivfNa</td>\n",
       "      <td>103.034311</td>\n",
       "    </tr>\n",
       "    <tr>\n",
       "      <th>1</th>\n",
       "      <td>12c6DSiU4Rq3P4ZxziKxzrL5LmMBrzjrJX</td>\n",
       "      <td>51.352302</td>\n",
       "    </tr>\n",
       "    <tr>\n",
       "      <th>2</th>\n",
       "      <td>1HLoD9E4SDFFPDiYfNYnkBLQ85Y51J3Zb1</td>\n",
       "      <td>50.078789</td>\n",
       "    </tr>\n",
       "  </tbody>\n",
       "</table>\n",
       "</div>"
      ],
      "text/plain": [
       "                       Wallet Address  balance_btc\n",
       "0  1A1zP1eP5QGefi2DMPTfTL5SLmv7DivfNa   103.034311\n",
       "1  12c6DSiU4Rq3P4ZxziKxzrL5LmMBrzjrJX    51.352302\n",
       "2  1HLoD9E4SDFFPDiYfNYnkBLQ85Y51J3Zb1    50.078789"
      ]
     },
     "execution_count": 8,
     "metadata": {},
     "output_type": "execute_result"
    }
   ],
   "source": [
    "df_filtered = df[df['balance_btc'] > 1]\n",
    "df_filtered"
   ]
  },
  {
   "cell_type": "code",
   "execution_count": null,
   "id": "ad8aaefa",
   "metadata": {},
   "outputs": [],
   "source": []
  },
  {
   "cell_type": "markdown",
   "id": "fe09bee4",
   "metadata": {},
   "source": [
    "# Let's have some fun!!!"
   ]
  },
  {
   "cell_type": "code",
   "execution_count": 9,
   "id": "1ef51976",
   "metadata": {},
   "outputs": [],
   "source": [
    "import os\n",
    "import hashlib\n",
    "import ecdsa\n",
    "import base58\n",
    "import binascii\n",
    "\n",
    "def generate_private_key():\n",
    "    \"\"\"Generate a random 32-byte private key (hex string)\"\"\"\n",
    "    return binascii.hexlify(os.urandom(32)).decode('utf-8')\n",
    "\n",
    "def private_key_to_wif(private_key_hex, compressed=True):\n",
    "    \"\"\"Convert a private key to Wallet Import Format (WIF)\"\"\"\n",
    "    private_key_bytes = binascii.unhexlify(private_key_hex)\n",
    "    \n",
    "    # Add prefix (0x80 for mainnet)\n",
    "    extended_key = b'\\x80' + private_key_bytes\n",
    "    \n",
    "    if compressed:\n",
    "        extended_key += b'\\x01'\n",
    "    \n",
    "    # Double SHA-256 hash\n",
    "    first_hash = hashlib.sha256(extended_key).digest()\n",
    "    second_hash = hashlib.sha256(first_hash).digest()\n",
    "    \n",
    "    # Add checksum (first 4 bytes of the second hash)\n",
    "    final_key = extended_key + second_hash[:4]\n",
    "    \n",
    "    # Base58 encode\n",
    "    wif = base58.b58encode(final_key)\n",
    "    return wif.decode('utf-8')\n",
    "\n",
    "def private_key_to_public_key(private_key_hex, compressed=True):\n",
    "    \"\"\"Convert private key to public key using ECDSA\"\"\"\n",
    "    private_key_bytes = binascii.unhexlify(private_key_hex)\n",
    "    \n",
    "    # Get ECDSA public key\n",
    "    sk = ecdsa.SigningKey.from_string(private_key_bytes, curve=ecdsa.SECP256k1)\n",
    "    vk = sk.get_verifying_key()\n",
    "    \n",
    "    if compressed:\n",
    "        # Compressed public key: prefix with 02 or 03 depending on y parity\n",
    "        x = vk.to_string()[:32]\n",
    "        y = vk.to_string()[32:]\n",
    "        prefix = b'\\x02' if y[-1] % 2 == 0 else b'\\x03'\n",
    "        public_key = prefix + x\n",
    "    else:\n",
    "        # Uncompressed public key: prefix with 04\n",
    "        prefix = b'\\x04'\n",
    "        public_key = prefix + vk.to_string()\n",
    "    \n",
    "    return binascii.hexlify(public_key).decode('utf-8')\n",
    "\n",
    "def public_key_to_address(public_key_hex):\n",
    "    \"\"\"Convert public key to Bitcoin address\"\"\"\n",
    "    public_key_bytes = binascii.unhexlify(public_key_hex)\n",
    "    \n",
    "    # SHA-256 hash\n",
    "    sha256_hash = hashlib.sha256(public_key_bytes).digest()\n",
    "    \n",
    "    # RIPEMD-160 hash\n",
    "    ripemd160 = hashlib.new('ripemd160')\n",
    "    ripemd160.update(sha256_hash)\n",
    "    ripemd160_hash = ripemd160.digest()\n",
    "    \n",
    "    # Add network byte (0x00 for mainnet)\n",
    "    extended_hash = b'\\x00' + ripemd160_hash\n",
    "    \n",
    "    # Double SHA-256 hash for checksum\n",
    "    first_hash = hashlib.sha256(extended_hash).digest()\n",
    "    second_hash = hashlib.sha256(first_hash).digest()\n",
    "    \n",
    "    # Add checksum (first 4 bytes of the second hash)\n",
    "    final_hash = extended_hash + second_hash[:4]\n",
    "    \n",
    "    # Base58 encode\n",
    "    address = base58.b58encode(final_hash)\n",
    "    return address.decode('utf-8')\n",
    "\n",
    "def generate_bitcoin_wallet():\n",
    "    \"\"\"Generate a complete Bitcoin wallet (private key, WIF, and addresses)\"\"\"\n",
    "    # Generate private key\n",
    "    private_key = generate_private_key()\n",
    "    \n",
    "    # Get WIF formats\n",
    "    wif_compressed = private_key_to_wif(private_key, compressed=True)\n",
    "    wif_uncompressed = private_key_to_wif(private_key, compressed=False)\n",
    "    \n",
    "    # Get public keys\n",
    "    public_key_compressed = private_key_to_public_key(private_key, compressed=True)\n",
    "    public_key_uncompressed = private_key_to_public_key(private_key, compressed=False)\n",
    "    \n",
    "    # Get addresses\n",
    "    address_compressed = public_key_to_address(public_key_compressed)\n",
    "    address_uncompressed = public_key_to_address(public_key_uncompressed)\n",
    "    \n",
    "    return {\n",
    "        'private_key_hex': private_key,\n",
    "        'wif_compressed': wif_compressed,\n",
    "        'wif_uncompressed': wif_uncompressed,\n",
    "        'public_key_compressed': public_key_compressed,\n",
    "        'public_key_uncompressed': public_key_uncompressed,\n",
    "        'address_compressed': address_compressed,\n",
    "        'address_uncompressed': address_uncompressed\n",
    "    }\n",
    "\n",
    "def print_wallet(wallet):\n",
    "    \"\"\"Print wallet information in a readable format\"\"\"\n",
    "    print(\"Private Key (hex):\", wallet['private_key_hex'])\n",
    "    print(\"WIF Compressed:\", wallet['wif_compressed'])\n",
    "    print(\"WIF Uncompressed:\", wallet['wif_uncompressed'])\n",
    "    print(\"Public Key Compressed:\", wallet['public_key_compressed'])\n",
    "    print(\"Public Key Uncompressed:\", wallet['public_key_uncompressed'])\n",
    "    print(\"Address Compressed:\", wallet['address_compressed'])\n",
    "    print(\"Address Uncompressed:\", wallet['address_uncompressed'])\n",
    "    print(\"-\" * 50)\n",
    "\n"
   ]
  },
  {
   "cell_type": "code",
   "execution_count": null,
   "id": "1286910e",
   "metadata": {},
   "outputs": [
    {
     "name": "stdout",
     "output_type": "stream",
     "text": [
      "\n",
      "Wallet #1:\n",
      "Private Key (hex): e20c9d12db80416fcf6d0f6190ec9a7429fe8e390515cef8cfbb33cef7749784\n",
      "WIF Compressed: L4o7yiwFLeFPBdbMJTfZAXSwLwVDBa8VPNQvyydf3PmoACuinHD9\n",
      "WIF Uncompressed: 5KXqhwpBVvJJiNtHP5gYkr3FaX1xKi39hQtBsX3sJm8RxcBqJWc\n",
      "Public Key Compressed: 031aee1bf9ca1b39932db6cb4a52302e3e65cf71a8bd910de4cdc7eab498c22f32\n",
      "Public Key Uncompressed: 041aee1bf9ca1b39932db6cb4a52302e3e65cf71a8bd910de4cdc7eab498c22f320f055e5f89c6a876d286c8a9b40918d05685f1db58a5471f5472e639839175df\n",
      "Address Compressed: 16DpsMeVjjJf1QhPnH3c4v4gtkz8rQYRjC\n",
      "Address Uncompressed: 1FVFUGy56Z67xnyAnzkDi42oWaqUfr4BGz\n",
      "--------------------------------------------------\n",
      "\n",
      "Wallet #2:\n",
      "Private Key (hex): 1231a1933f5cf140296e3fb5af97df28781a87ea88f609193cb660a41c0ee5a5\n",
      "WIF Compressed: Kwq5SbSstYyoUPtKuQ36BtNJDB9JjmomHroLioakdvjxpMmHrQNU\n",
      "WIF Uncompressed: 5HxJKVCJRNHwwEo4q82qJRKsa7q6qCxudSnPbPni9pX8DBNgzzN\n",
      "Public Key Compressed: 0342d191f6d1002d58bdb737bad0978baaec0d93f1d5ca94dc453b81ece77fa057\n",
      "Public Key Uncompressed: 0442d191f6d1002d58bdb737bad0978baaec0d93f1d5ca94dc453b81ece77fa05756a48902fc66eb4fe7b9d1caedeb303d523331bae1404ecf50565a1a7b65f411\n",
      "Address Compressed: 14Rg3sHciVPNSPoCkCLbKLzrKGdTjEaXSJ\n",
      "Address Uncompressed: 17MUNM55HLNmSJLTfPGzfrk1KCWM2EePHj\n",
      "--------------------------------------------------\n"
     ]
    }
   ],
   "source": [
    "for i in range(2):\n",
    "    print(f\"\\nWallet #{i+1}:\")\n",
    "    wallet = generate_bitcoin_wallet()\n",
    "    print_wallet(wallet)"
   ]
  },
  {
   "cell_type": "code",
   "execution_count": 16,
   "id": "d616b1d0",
   "metadata": {},
   "outputs": [
    {
     "name": "stdout",
     "output_type": "stream",
     "text": [
      "\n",
      "Wallet #1:\n",
      "Private key (hex): 7bec3626e4f565e74ee51131f372a2e7a971c5dd7cb0566f98b9b62e609979b8\n",
      "False\n",
      "False\n",
      "\n",
      "Wallet #2:\n",
      "Private key (hex): f7cd443ee1dd70c14cdae285ca5fc9afa9b767e3eaa15a4ca49ca135bf4207f0\n",
      "False\n",
      "False\n"
     ]
    }
   ],
   "source": [
    "for i in range(2):\n",
    "    print(f\"\\nWallet #{i+1}:\")\n",
    "    wallet = generate_bitcoin_wallet()\n",
    "\n",
    "    address_comp = wallet['address_compressed']\n",
    "    address_uncomp = wallet['address_uncompressed']\n",
    "\n",
    "    print('Private key (hex):', wallet['private_key_hex'])\n",
    "    print(address_uncomp in df_filtered['Wallet Address'])\n",
    "    print(address_comp in df_filtered['Wallet Address'])"
   ]
  },
  {
   "cell_type": "code",
   "execution_count": null,
   "id": "b0edaa51",
   "metadata": {},
   "outputs": [],
   "source": []
  }
 ],
 "metadata": {
  "kernelspec": {
   "display_name": "venv",
   "language": "python",
   "name": "python3"
  },
  "language_info": {
   "codemirror_mode": {
    "name": "ipython",
    "version": 3
   },
   "file_extension": ".py",
   "mimetype": "text/x-python",
   "name": "python",
   "nbconvert_exporter": "python",
   "pygments_lexer": "ipython3",
   "version": "3.12.3"
  }
 },
 "nbformat": 4,
 "nbformat_minor": 5
}
